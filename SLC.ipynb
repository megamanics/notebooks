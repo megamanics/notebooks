{
 "cells": [
  {
   "cell_type": "markdown",
   "metadata": {
    "scrolled": true
   },
   "source": [
    "## Read CSV"
   ]
  },
  {
   "cell_type": "code",
   "execution_count": null,
   "metadata": {
    "collapsed": true
   },
   "outputs": [],
   "source": [
    "import pandas as pd\n",
    "plans = pd.read_csv('plans.csv')\n",
    "slc = pd.read_csv('slcsp.csv')\n",
    "zips = pd.read_csv('zips.csv')\n",
    "zips.head(10)"
   ]
  },
  {
   "cell_type": "markdown",
   "metadata": {
    "collapsed": true
   },
   "source": [
    "Remove duplicate records if any"
   ]
  },
  {
   "cell_type": "code",
   "execution_count": null,
   "metadata": {
    "collapsed": true
   },
   "outputs": [],
   "source": [
    "zips = zips[['zipcode', 'state', 'rate_area']].sort_values(['zipcode', 'state', 'rate_area']).drop_duplicates()"
   ]
  },
  {
   "cell_type": "markdown",
   "metadata": {},
   "source": [
    "Identify duplicate zips, eg: same zipcode in multiple states / rate areas.\n",
    "drop these duplicate zips so the result in the final answer is N/A"
   ]
  },
  {
   "cell_type": "code",
   "execution_count": null,
   "metadata": {
    "collapsed": true
   },
   "outputs": [],
   "source": [
    "dup_zips = zips[zips.duplicated(['zipcode'], keep=False)].sort_values(['zipcode', 'state', 'rate_area'])\n",
    "uniq_zips = zips.drop(dup_zips.index.values)\n",
    "uniq_zips.head(10)"
   ]
  },
  {
   "cell_type": "markdown",
   "metadata": {},
   "source": [
    "Filter on Silver plans"
   ]
  },
  {
   "cell_type": "code",
   "execution_count": null,
   "metadata": {
    "collapsed": false
   },
   "outputs": [],
   "source": [
    "grp = plans[plans['metal_level'] == 'Silver'][['state', 'rate_area', 'rate']].sort_values(['state',  'rate_area', 'rate']).drop_duplicates()\n",
    "grp.head(10)"
   ]
  },
  {
   "cell_type": "markdown",
   "metadata": {},
   "source": [
    "Check if there are two rates for the same rate area in a state"
   ]
  },
  {
   "cell_type": "code",
   "execution_count": null,
   "metadata": {
    "collapsed": false
   },
   "outputs": [],
   "source": [
    "grp.groupby(['state', 'rate_area']).size().reset_index(name='counts').sort_values(['counts']).head(10)"
   ]
  },
  {
   "cell_type": "markdown",
   "metadata": {},
   "source": [
    "find the index of the minimum rate plan in rate_area \n",
    "drop the lowest plans from the list"
   ]
  },
  {
   "cell_type": "code",
   "execution_count": null,
   "metadata": {
    "collapsed": false
   },
   "outputs": [],
   "source": [
    "lowestPlanIdx = grp.groupby(['state', 'rate_area'])['rate'].idxmin().values\n",
    "grp3 = grp.drop(lowestPlanIdx)"
   ]
  },
  {
   "cell_type": "markdown",
   "metadata": {},
   "source": [
    "get the second lowest rateplan"
   ]
  },
  {
   "cell_type": "code",
   "execution_count": null,
   "metadata": {
    "collapsed": true
   },
   "outputs": [],
   "source": [
    "grp4 = grp3.groupby(['state', 'rate_area'], as_index=False).min()"
   ]
  },
  {
   "cell_type": "markdown",
   "metadata": {
    "collapsed": true
   },
   "source": [
    "Join unique zipcode with the second lowest rate to get the final answer"
   ]
  },
  {
   "cell_type": "code",
   "execution_count": null,
   "metadata": {
    "collapsed": true
   },
   "outputs": [],
   "source": [
    "res1 = pd.merge(uniq_zips, grp4, on=['state', 'rate_area'], how=\"left\")\n",
    "res2 = pd.merge(slc, res1, on=['zipcode'], how=\"left\")\n",
    "ans = res2[['zipcode', 'rate_y']]\n",
    "ans.head(10)"
   ]
  }
 ],
 "metadata": {
  "kernelspec": {
   "display_name": "Python 3",
   "language": "python",
   "name": "python3"
  },
  "language_info": {
   "codemirror_mode": {
    "name": "ipython",
    "version": 3
   },
   "file_extension": ".py",
   "mimetype": "text/x-python",
   "name": "python",
   "nbconvert_exporter": "python",
   "pygments_lexer": "ipython3",
   "version": "3.5.3"
  }
 },
 "nbformat": 4,
 "nbformat_minor": 2
}
